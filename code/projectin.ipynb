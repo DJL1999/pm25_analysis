{
 "cells": [
  {
   "cell_type": "code",
   "execution_count": 84,
   "metadata": {},
   "outputs": [],
   "source": [
    "import os \n",
    "from osgeo import ogr\n",
    "from osgeo import gdal\n",
    "from osgeo import gdalconst"
   ]
  },
  {
   "cell_type": "code",
   "execution_count": 85,
   "metadata": {},
   "outputs": [
    {
     "name": "stdout",
     "output_type": "stream",
     "text": [
      "GEOGCS[\"WGS 84\",\n",
      "    DATUM[\"WGS_1984\",\n",
      "        SPHEROID[\"WGS 84\",6378137,298.257223563,\n",
      "            AUTHORITY[\"EPSG\",\"7030\"]],\n",
      "        AUTHORITY[\"EPSG\",\"6326\"]],\n",
      "    PRIMEM[\"Greenwich\",0,\n",
      "        AUTHORITY[\"EPSG\",\"8901\"]],\n",
      "    UNIT[\"degree\",0.0174532925199433,\n",
      "        AUTHORITY[\"EPSG\",\"9122\"]],\n",
      "    AXIS[\"Latitude\",NORTH],\n",
      "    AXIS[\"Longitude\",EAST],\n",
      "    AUTHORITY[\"EPSG\",\"4326\"]]\n"
     ]
    }
   ],
   "source": [
    "#path1 = \"F:\\\\SCI\\\\world_remove\\\\world.shp\"\n",
    "#data_dir = \"F:\\\\SCI\\\\world_remove\"\n",
    "#ds = ogr.Open(os.path.join(data_dir, 'world.shp'))\n",
    "#ds = ogr.Open('F:/SCI/word_remove/world.shp')     #可用\n",
    "#ds = ogr.Open('F:\\\\SCI\\\\word_remove\\\\world.shp')  #可用\n",
    "data_dir = r'F:\\SCI\\word_remove'\n",
    "ds = ogr.Open(os.path.join(data_dir,'world.shp'))\n",
    "srs = ds.GetLayer().GetSpatialRef()\n",
    "print(srs)"
   ]
  },
  {
   "cell_type": "code",
   "execution_count": 86,
   "metadata": {},
   "outputs": [],
   "source": [
    "# def ReprojectImages2(inputfilePath,referencefilefilePath):\n",
    "#     # 若采用gdal.Warp()方法进行重采样\n",
    "#     # 获取输出影像信息\n",
    "#     inputrasfile = gdal.Open(inputfilePath, gdal.GA_ReadOnly)\n",
    "#     inputProj = inputrasfile.GetProjection()\n",
    "#     # 获取参考影像信息\n",
    "#     referencefile = gdal.Open(referencefilefilePath, gdal.GA_ReadOnly)\n",
    "#     referencefileProj = referencefile.GetProjection()\n",
    "#     referencefileTrans = referencefile.GetGeoTransform()\n",
    "#     bandreferencefile = referencefile.GetRasterBand(1)\n",
    "#     x = referencefile.RasterXSize\n",
    "#     y = referencefile.RasterYSize\n",
    "#     nbands = referencefile.RasterCount\n",
    "#     # 创建重采样输出文件（设置投影及六参数）\n",
    "#     driver = gdal.GetDriverByName('GTiff')\n",
    "#     output = driver.Create(outputfilePath, x, y, nbands, bandreferencefile.DataType)\n",
    "#     output.SetGeoTransform(referencefileTrans)\n",
    "#     output.SetProjection(referencefileProj)\n",
    "#     options = gdal.WarpOptions(srcSRS=inputProj, dstSRS=referencefileProj, resampleAlg=gdalconst.GRA_Bilinear)\n",
    "#     gdal.Warp(output, inputfilePath, options=options)\n"
   ]
  },
  {
   "cell_type": "code",
   "execution_count": 87,
   "metadata": {},
   "outputs": [],
   "source": [
    "def ReprojectImages2(inputfilePath,referencefilefilePath,outputfilePath):\n",
    "    # 若采用gdal.Warp()方法进行重采样\n",
    "    # 获取输出影像信息\n",
    "    inputrasfile = gdal.Open(inputfilePath, gdal.GA_ReadOnly)\n",
    "    inputProj = inputrasfile.GetProjection()\n",
    "    # 获取参考影像信息\n",
    "    referencefile = gdal.Open(referencefilefilePath, gdal.GA_ReadOnly)\n",
    "    referencefileProj = referencefile.GetProjection()\n",
    "    referencefileTrans = referencefile.GetGeoTransform()\n",
    "    bandreferencefile = referencefile.GetRasterBand(1)\n",
    "    x = referencefile.RasterXSize\n",
    "    y = referencefile.RasterYSize\n",
    "    nbands = referencefile.RasterCount\n",
    "    # 创建重采样输出文件（设置投影及六参数）\n",
    "    driver = gdal.GetDriverByName('GTiff')\n",
    "    output = driver.Create(outputfilePath, x, y, nbands, bandreferencefile.DataType)\n",
    "    output.SetGeoTransform(referencefileTrans)\n",
    "    output.SetProjection(referencefileProj)\n",
    "    options = gdal.WarpOptions(srcSRS=inputProj, dstSRS=referencefileProj, resampleAlg=gdalconst.GRA_Bilinear)\n",
    "    gdal.Warp(output, inputfilePath, options=options)\n"
   ]
  },
  {
   "cell_type": "code",
   "execution_count": 88,
   "metadata": {},
   "outputs": [
    {
     "name": "stdout",
     "output_type": "stream",
     "text": [
      "F:\\SCI\\MOD\\DBAOD550\\tif\\MYD.DB.AOD550.200301.tif\n",
      "F:\\SCI\\CESM\\CESM2.HIS.AODVIS.1980-01.tif\n",
      "F:\\test\\test.tif\n"
     ]
    }
   ],
   "source": [
    "path1 = r'F:\\SCI\\MOD\\DBAOD550\\tif\\MYD.DB.AOD550.200301.tif'\n",
    "print(path1)\n",
    "path2 = r'F:\\SCI\\CESM\\CESM2.HIS.AODVIS.1980-01.tif'\n",
    "print(path2)\n",
    "path3 = r'F:\\test\\test.tif'\n",
    "print(path3)\n",
    "ReprojectImages2(path1, path2, path3)"
   ]
  }
 ],
 "metadata": {
  "kernelspec": {
   "display_name": "Python 3.7.12 ('py377')",
   "language": "python",
   "name": "python3"
  },
  "language_info": {
   "codemirror_mode": {
    "name": "ipython",
    "version": 3
   },
   "file_extension": ".py",
   "mimetype": "text/x-python",
   "name": "python",
   "nbconvert_exporter": "python",
   "pygments_lexer": "ipython3",
   "version": "3.7.12"
  },
  "orig_nbformat": 4,
  "vscode": {
   "interpreter": {
    "hash": "d88e88eac3c280b62fe11c25309cfc57f143495f022fe99eda72aca241a14c33"
   }
  }
 },
 "nbformat": 4,
 "nbformat_minor": 2
}
