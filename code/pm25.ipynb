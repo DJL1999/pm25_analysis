{
 "cells": [
  {
   "cell_type": "code",
   "execution_count": 1,
   "metadata": {},
   "outputs": [],
   "source": [
    "#栅格计算\n",
    "from osgeo import gdal\n",
    "import numpy as np\n",
    "import glob\n",
    "import os\n",
    "import re"
   ]
  },
  {
   "cell_type": "code",
   "execution_count": 2,
   "metadata": {},
   "outputs": [],
   "source": [
    "def read_img(filename):\n",
    "        dataset = gdal.Open(filename)\n",
    "        im_width = dataset.RasterXSize #栅格矩阵的列数\n",
    "        im_height = dataset.RasterYSize #栅格矩阵的行数\n",
    "        im_geotrans = dataset.GetGeoTransform() #仿射矩阵\n",
    "        im_proj = dataset.GetProjection() #地图投影\n",
    "        im_data = dataset.ReadAsArray(0,0,im_width,im_height)\n",
    "        del dataset\n",
    "        return im_proj,im_geotrans,im_data\n",
    "\n",
    "def write_img(filename,im_proj,im_geotrans,im_data):\n",
    "        if \"int8\" in im_data.dtype.name:\n",
    "            datatype = gdal.GDT_Byte\n",
    "        if \"int16\" in im_data.dtype.name:\n",
    "            datatype = gdal.GDT_UInt16\n",
    "        else:\n",
    "            datatype = gdal.GDT_Float32\n",
    "\n",
    "        if len(im_data.shape) == 3:\n",
    "            im_bands, im_height, im_width = im_data.shape\n",
    "        else:\n",
    "            im_bands, (im_height, im_width) = 1, im_data.shape\n",
    "\n",
    "        driver = gdal.GetDriverByName(\"GTiff\")  # 数据类型必须有，因为要计算需要多大内存空间\n",
    "        dataset = driver.Create(filename, im_width, im_height, im_bands, datatype)\n",
    "\n",
    "        dataset.SetGeoTransform(im_geotrans)  # 写入仿射变换参数\n",
    "        dataset.SetProjection(im_proj)  # 写入投影\n",
    "\n",
    "        if im_bands == 1:\n",
    "            dataset.GetRasterBand(1).WriteArray(im_data)  # 写入数组数据\n",
    "        else:\n",
    "            for i in range(im_bands):\n",
    "                dataset.GetRasterBand(i + 1).WriteArray(im_data[i])\n",
    "        del dataset"
   ]
  },
  {
   "cell_type": "code",
   "execution_count": 45,
   "metadata": {},
   "outputs": [],
   "source": [
    "aod_path  = 'F:\\\\SCI\\\\CESM\\\\'\n",
    "aod_list = glob.glob(os.path.join(aod_path, 'CESM2.HIS.AODVIS.*.tif'))\n",
    "proj = read_img(\"F:\\\\SCI\\\\CESM\\\\CESM2.HIS.AODVIS.1980-01.tif\")[0]\n",
    "geotrans = read_img(\"F:\\\\SCI\\\\CESM\\\\CESM2.HIS.AODVIS.1980-01.tif\")[1]\n",
    "annualmean = []\n"
   ]
  },
  {
   "cell_type": "code",
   "execution_count": 46,
   "metadata": {},
   "outputs": [],
   "source": [
    "#输入三个文件路径，返回计算完成后的文件\n",
    "def cal(aod, aodt, mod, out):\n",
    "    aod_arr  = read_img(aod)[2]\n",
    "    aodt_arr = read_img(aodt)[2]\n",
    "    mod_arr  = read_img(mod)[2]/1000\n",
    "    #将三个文件中的空值转换为nan\n",
    "    aod_arr[np.where(aod_arr<=-3.3e+38)] = np.nan\n",
    "    aodt_arr[np.where(aodt_arr<=-3.3e+38)] = np.nan\n",
    "    mod_arr[np.where(mod_arr == 0)] = np.nan\n",
    "\n",
    "    pm25 = aodt_arr*mod_arr/aod_arr\n",
    "\n",
    "    write_img(out, proj, geotrans, pm25)"
   ]
  },
  {
   "cell_type": "code",
   "execution_count": 47,
   "metadata": {},
   "outputs": [],
   "source": [
    "cal('F:\\\\SCI\\\\CESM\\\\CESM2.HIS.AODVIS.1980-01.tif', 'F:\\\\SCI\\\\CESM\\\\CESM2.hist.AODT.1980-01.tif' ,'C:\\\\Users\\\\DJL\\\\Desktop\\\\dataanalysis\\\\modresrs\\\\200301modsrs.tif', 'F:\\\\test\\\\pm25test.tif')"
   ]
  },
  {
   "cell_type": "code",
   "execution_count": 3,
   "metadata": {},
   "outputs": [
    {
     "name": "stdout",
     "output_type": "stream",
     "text": [
      "0.1773009\n"
     ]
    },
    {
     "data": {
      "text/plain": [
       "array([[nan, nan, nan, ..., nan, nan, nan],\n",
       "       [nan, nan, nan, ..., nan, nan, nan],\n",
       "       [nan, nan, nan, ..., nan, nan, nan],\n",
       "       ...,\n",
       "       [nan, nan, nan, ..., nan, nan, nan],\n",
       "       [nan, nan, nan, ..., nan, nan, nan],\n",
       "       [nan, nan, nan, ..., nan, nan, nan]], dtype=float32)"
      ]
     },
     "execution_count": 3,
     "metadata": {},
     "output_type": "execute_result"
    }
   ],
   "source": [
    "t1 = read_img('F:\\\\test\\\\pm25test.tif')[2]\n",
    "print(np.nanmean(t1))\n",
    "t1\n"
   ]
  },
  {
   "cell_type": "code",
   "execution_count": 51,
   "metadata": {},
   "outputs": [],
   "source": [
    "for y_idx in range(2003, 2015):\n",
    "    for m_idx in range(1, 13):\n",
    "        for aod_name in aod_list:\n",
    "            # 获取文件名中日期信息\n",
    "            #name = re.findall(r'MOD16A2GF.A(\\d{7}).h28v06', path.basename(et_name))[0]\n",
    "            #date = datetime.datetime.strptime(name, '%Y%j')\n",
    "            #year, month, day = date.year, date.month, date.day\n",
    "            date = re.findall(r'....-..',aod_name)\n",
    "            syear = date[0][0:4]\n",
    "            smonth = date[0][-2:]\n",
    "            year = int(date[0][0:4])\n",
    "            month = int(date[0][-2:])\n",
    "            if year == y_idx:\n",
    "                if month == m_idx:\n",
    "                    # a1 = read_img(f\"F:\\\\SCI\\\\MOD\\\\DBAOD550\\\\tif\\\\MYD.DB.AOD550.{syear}{smonth}.tif\")[2]\n",
    "                    # a1 = a1.astype(np.float32)\n",
    "                    # a1[np.where(a1 <= -3.3e+38)]=np.nan\n",
    "                    # # 同一年相同月份的影像存放一起并插入各景影像数据在各月份中所占权重\n",
    "                    # # 根据所占月份时间长短确定权重（暂时设为1）\n",
    "                    # if m_idx == 1:\n",
    "                    #     m_array = a1\n",
    "                    # elif m_idx ==2:\n",
    "                    #     m_array = np.stack([m_array,a1],axis=2)\n",
    "                    # else:\n",
    "                    #     m_array = np.insert(m_array,0,a1,axis=2)\n",
    "                    # break\n",
    "                    mod_path = f\"C:\\\\Users\\\\DJL\\\\Desktop\\\\dataanalysis\\\\modresrs\\\\{syear}{smonth}modsrs.tif\"\n",
    "                    aod_path = f\"F:\\\\SCI\\\\CESM\\\\CESM2.HIS.AODVIS.{syear}-{smonth}.tif\"\n",
    "                    aodt_path = f\"F:\\\\SCI\\\\CESM\\\\CESM2.hist.AODT.{syear}-{smonth}.tif\"\n",
    "                    out_path = f\"C:\\\\Users\\\\DJL\\\\Desktop\\\\dataanalysis\\\\pm25\\\\{syear}-{smonth}pm25.tif\"\n",
    "                    cal(aod_path, aodt_path, mod_path, out_path)\n",
    "                    break\n"
   ]
  }
 ],
 "metadata": {
  "kernelspec": {
   "display_name": "Python 3.7.12 ('py377')",
   "language": "python",
   "name": "python3"
  },
  "language_info": {
   "codemirror_mode": {
    "name": "ipython",
    "version": 3
   },
   "file_extension": ".py",
   "mimetype": "text/x-python",
   "name": "python",
   "nbconvert_exporter": "python",
   "pygments_lexer": "ipython3",
   "version": "3.7.12"
  },
  "orig_nbformat": 4,
  "vscode": {
   "interpreter": {
    "hash": "d88e88eac3c280b62fe11c25309cfc57f143495f022fe99eda72aca241a14c33"
   }
  }
 },
 "nbformat": 4,
 "nbformat_minor": 2
}
